{
 "cells": [
  {
   "cell_type": "markdown",
   "id": "dc7c6545",
   "metadata": {},
   "source": [
    "### 회귀 (100점)\n",
    "1) 데이터 선정(20점):\n",
    "- 어떠한 데이터라도 상관 없음\n",
    "(캐글 데이터, 인터넷에서 구한 데이터, 직접 수집한 데 이터 등)\n",
    "https://www.kaggle.com/datasets\n",
    "- 데이터를 선정한 이유 서술\n",
    "\n",
    "2) 데이터 전처리(25점): 방법, 이유, 파이썬 코드\n",
    "\n",
    "3) 회귀 및 파라미터 최적화(30점): 방법, 이유, 파이 썬 코드\n",
    "\n",
    "4) 결과 및 분석, 고찰(25점)\n",
    "\n",
    "선형 회귀\n",
    "폴리노미어\n",
    "트리"
   ]
  },
  {
   "cell_type": "markdown",
   "id": "5ca953fb",
   "metadata": {},
   "source": [
    "* age: age of primary beneficiary \n",
    "* sex: insurance contractor gender, female, male \n",
    "* bmi: Body mass index, providing an understanding of body, weights that are relatively high or low relative to height, ",
    "objective index of body weight (kg / m ^ 2) using the ratio of height to weight, ideally 18.5 to 24.9 \n",
    "* children: Number of children covered by health insurance / Number of dependents\n",
    "* smoker: Smoking\n",
    "* region: the beneficiary's residential area in the US, northeast, southeast, southwest, northwest.\n",
    "* charges: Individual medical costs billed by health insurance"
   ]
  },
  {
   "cell_type": "code",
   "execution_count": null,
   "id": "3e71ce22",
   "metadata": {},
   "outputs": [],
   "source": [
    "import numpy as np\n",
    "import pandas as pd\n",
    "import matplotlib.pyplot as plt\n",
    "import seaborn as sns\n",
    "from sklearn.model_selection import train_test_split\n",
    "from sklearn.linear_model import LinearRegression\n",
    "from sklearn.metrics import mean_absolute_error, mean_squared_error, r2_score\n",
    "from sklearn.model_selection import cross_val_score\n",
    "from sklearn.preprocessing import PolynomialFeatures\n",
    "from sklearn.linear_model import Ridge\n",
    "from sklearn.linear_model import Lasso\n",
    "from sklearn.model_selection import GridSearchCV\n",
    "from sklearn.linear_model import ElasticNet\n",
    "from sklearn.linear_model import LogisticRegression\n",
    "from sklearn.preprocessing import StandardScaler, MinMaxScaler \n",
    "from sklearn.ensemble import RandomForestRegressor \n",
    "from sklearn import metrics\n",
    "from sklearn.tree import DecisionTreeRegressor\n",
    "from sklearn.ensemble import GradientBoostingRegressor\n",
    "from sklearn.neighbors import KNeighborsRegressor\n",
    "from sklearn.ensemble import AdaBoostRegressor\n",
    "from xgboost import XGBRegressor\n",
    "from lightgbm import LGBMRegressor"
   ]
  },
  {
   "cell_type": "code",
   "execution_count": null,
   "id": "5a6ec574",
   "metadata": {
    "scrolled": true
   },
   "outputs": [],
   "source": [
    "df = pd.read_csv(\"insurance.csv\")\n",
    "df.head()"
   ]
  },
  {
   "cell_type": "code",
   "execution_count": null,
   "id": "3e289dfb",
   "metadata": {},
   "outputs": [],
   "source": [
    "df.shape"
   ]
  },
  {
   "cell_type": "markdown",
   "id": "b248ede0",
   "metadata": {},
   "source": [
    "### Exploratory Data Analysis"
   ]
  },
  {
   "cell_type": "code",
   "execution_count": null,
   "id": "790a728e",
   "metadata": {},
   "outputs": [],
   "source": [
    "df.info()"
   ]
  },
  {
   "cell_type": "code",
   "execution_count": null,
   "id": "d1f8117b",
   "metadata": {},
   "outputs": [],
   "source": [
    "df.describe()"
   ]
  },
  {
   "cell_type": "code",
   "execution_count": null,
   "id": "a3d9739e",
   "metadata": {},
   "outputs": [],
   "source": [
    "df.isnull().sum()"
   ]
  },
  {
   "cell_type": "markdown",
   "id": "4495dc51",
   "metadata": {},
   "source": [
    "### Encoding"
   ]
  },
  {
   "cell_type": "code",
   "execution_count": null,
   "id": "b978a23d",
   "metadata": {},
   "outputs": [],
   "source": [
    "df.sex.value_counts()"
   ]
  },
  {
   "cell_type": "code",
   "execution_count": null,
   "id": "263ee2c6",
   "metadata": {},
   "outputs": [],
   "source": [
    "# Encoding for Sex\n",
    "value1 = {'male': 1, 'female': 0}\n",
    "df['sex'].replace(value1,inplace = True)\n",
    "df.head()"
   ]
  },
  {
   "cell_type": "code",
   "execution_count": null,
   "id": "59301a5b",
   "metadata": {},
   "outputs": [],
   "source": [
    "df.smoker.value_counts()"
   ]
  },
  {
   "cell_type": "code",
   "execution_count": null,
   "id": "0685cea4",
   "metadata": {},
   "outputs": [],
   "source": [
    "value2 = {\"yes\": 1,\"no\": 0}\n",
    "df['smoker'].replace(value2,inplace= True)\n",
    "df.head()"
   ]
  },
  {
   "cell_type": "code",
   "execution_count": null,
   "id": "02150eee",
   "metadata": {},
   "outputs": [],
   "source": [
    "df.region.value_counts()"
   ]
  },
  {
   "cell_type": "code",
   "execution_count": null,
   "id": "1e168e5e",
   "metadata": {},
   "outputs": [],
   "source": [
    "value3 = {\"northeast\": 0,\"northwest\": 1, \n",
    "          \"southwest\": 3, \"southeast\": 4}\n",
    "df['region'].replace(value3,inplace= True)\n",
    "df.head()"
   ]
  },
  {
   "cell_type": "code",
   "execution_count": null,
   "id": "64ed78a1",
   "metadata": {},
   "outputs": [],
   "source": [
    "df.info()"
   ]
  },
  {
   "cell_type": "code",
   "execution_count": null,
   "id": "572117b1",
   "metadata": {},
   "outputs": [],
   "source": [
    "sns.heatmap(df.corr(),annot = True)"
   ]
  },
  {
   "cell_type": "code",
   "execution_count": null,
   "id": "0260bdd0",
   "metadata": {},
   "outputs": [],
   "source": [
    "sns.catplot(x='smoker',kind = 'count',data=df)"
   ]
  },
  {
   "cell_type": "code",
   "execution_count": null,
   "id": "284cca32",
   "metadata": {},
   "outputs": [],
   "source": [
    "df.smoker.value_counts()"
   ]
  },
  {
   "cell_type": "code",
   "execution_count": null,
   "id": "34f03168",
   "metadata": {},
   "outputs": [],
   "source": [
    "f= plt.figure(figsize=(12,5))\n",
    "\n",
    "ax=f.add_subplot(121)\n",
    "sns.distplot(df[(df.smoker == 1)][\"charges\"],color='c',ax=ax)\n",
    "ax.set_title('Distribution of charges for smokers')\n",
    "\n",
    "ax=f.add_subplot(122)\n",
    "sns.distplot(df[(df.smoker == 0)]['charges'],color='b',ax=ax)\n",
    "ax.set_title('Distribution of charges for non-smokers')"
   ]
  },
  {
   "cell_type": "code",
   "execution_count": null,
   "id": "937c8937",
   "metadata": {},
   "outputs": [],
   "source": [
    "mask = df['smoker'].isin([1])\n",
    "df = df[~mask]\n",
    "df =df.drop('smoker',axis=1)\n",
    "df.head()"
   ]
  },
  {
   "cell_type": "code",
   "execution_count": null,
   "id": "094212e4",
   "metadata": {},
   "outputs": [],
   "source": [
    "df.reset_index()"
   ]
  },
  {
   "cell_type": "code",
   "execution_count": null,
   "id": "aeb833dd",
   "metadata": {},
   "outputs": [],
   "source": [
    "df.info()"
   ]
  },
  {
   "cell_type": "code",
   "execution_count": null,
   "id": "df93b235",
   "metadata": {},
   "outputs": [],
   "source": [
    "df1 = df"
   ]
  },
  {
   "cell_type": "code",
   "execution_count": null,
   "id": "ef66fb11",
   "metadata": {},
   "outputs": [],
   "source": [
    "plt.figure(figsize=(12,5))\n",
    "plt.title(\"Distribution of charges\")\n",
    "ax = sns.distplot(df[\"charges\"], color = 'm')"
   ]
  },
  {
   "cell_type": "code",
   "execution_count": null,
   "id": "fa34a867",
   "metadata": {},
   "outputs": [],
   "source": [
    "df['charges'].hist(bins='auto')"
   ]
  },
  {
   "cell_type": "code",
   "execution_count": null,
   "id": "cd25e0c7",
   "metadata": {},
   "outputs": [],
   "source": [
    "y_log = np.log1p(df['charges'])\n",
    "y_log.hist(bins='auto')"
   ]
  },
  {
   "cell_type": "code",
   "execution_count": null,
   "id": "682c48d6",
   "metadata": {},
   "outputs": [],
   "source": [
    "plt.figure(figsize=(12,5))\n",
    "plt.title(\"Distribution of age\")\n",
    "ax = sns.distplot(df[\"age\"], color = 'm')"
   ]
  },
  {
   "cell_type": "code",
   "execution_count": null,
   "id": "8e5502fd",
   "metadata": {},
   "outputs": [],
   "source": [
    "plt.figure(figsize=(12,5))\n",
    "plt.title(\"Distribution of bmi\")\n",
    "ax = sns.distplot(df[\"bmi\"], color = 'm')"
   ]
  },
  {
   "cell_type": "code",
   "execution_count": null,
   "id": "53cb27b4",
   "metadata": {},
   "outputs": [],
   "source": [
    "fig, axs = plt.subplots(2,3,sharey=True)\n",
    "df.plot(kind='scatter', x='age', y='charges', ax=axs[0][0], figsize=[16,8])\n",
    "df.plot(kind='scatter', x='sex', y='charges', ax=axs[0][1])\n",
    "df.plot(kind='scatter', x='bmi', y='charges', ax=axs[0][2])\n",
    "df.plot(kind='scatter', x='children', y='charges', ax=axs[1][0])\n",
    "df.plot(kind='scatter', x='region', y='charges', ax=axs[1][1])"
   ]
  },
  {
   "cell_type": "markdown",
   "id": "e955679e",
   "metadata": {},
   "source": [
    "### 단순 선형 회귀"
   ]
  },
  {
   "cell_type": "markdown",
   "id": "90b20b10",
   "metadata": {},
   "source": [
    "#### 경사하강법"
   ]
  },
  {
   "cell_type": "code",
   "execution_count": null,
   "id": "3c142582",
   "metadata": {},
   "outputs": [],
   "source": [
    "# 경사하강법 - 행렬 풀이\n",
    "X = df.age\n",
    "y = y_log\n",
    "\n",
    "def get_cost(y, y_pred):\n",
    "    N = len(y)\n",
    "    cost = np.sum(np.square(y - y_pred)) / N #손실 함수 or 비용 함수\n",
    "    return cost\n",
    "\n",
    "def get_weight_updates(w1, w0, X, y, learning_rate=0.0001):\n",
    "    N = len(y)\n",
    "    y_pred = np.dot(X, w1) + w0\n",
    "    print(get_cost(y, y_pred))\n",
    "    diff = y_pred - y\n",
    "    ones = np.ones((N, 1))\n",
    "    w1_update = learning_rate * 2 * np.dot(X.T, diff) / N\n",
    "    w0_update = learning_rate * 2 * np.dot(ones.T, diff) / N\n",
    "    return w1_update, w0_update\n",
    "\n",
    "def gradient_descent_steps(X, y, iters=10000):\n",
    "    w0 = 0\n",
    "    w1 = 0\n",
    "    for _ in range(iters):\n",
    "        w1_update, w0_update = get_weight_updates(w1, w0, X ,y)\n",
    "        w1 = w1 - w1_update\n",
    "        w0 = w0 - w0_update\n",
    "    return w1, w0\n",
    "\n",
    "w1, w0 = gradient_descent_steps(X, y, 1000)\n",
    "print(w1, w0)"
   ]
  },
  {
   "cell_type": "code",
   "execution_count": null,
   "id": "597e3152",
   "metadata": {},
   "outputs": [],
   "source": [
    "y_pred1 = w1 * X + w0\n",
    "plt.scatter(X, y)\n",
    "plt.plot(X, y_pred1, c='red')"
   ]
  },
  {
   "cell_type": "code",
   "execution_count": null,
   "id": "f2115374",
   "metadata": {},
   "outputs": [],
   "source": [
    "# 경사하강법 - 편미분 방정식 풀이\n",
    "X = df.age\n",
    "y = y_log\n",
    "\n",
    "def get_cost(y, y_pred):\n",
    "    N = len(y)\n",
    "    cost = np.sum(np.square(y-y_pred))/N\n",
    "    return cost\n",
    "\n",
    "def get_weight_updates(w1, w0, X, y):\n",
    "    N = len(y)\n",
    "    y_pred =np.sum(X*y)+w0\n",
    "    print(get_cost(y, y_pred))\n",
    "    xy_bar = np.sum(X*y)/N\n",
    "    y_bar = np.sum(y)/N\n",
    "    x_bar = np.sum(X)/N\n",
    "    xx_bar =np.sum(X*X)/N\n",
    "    return xy_bar, y_bar ,x_bar, xx_bar \n",
    "\n",
    "def gradient_descent_steps(X, y, iters=10000):\n",
    "    w0 = 0\n",
    "    w1 = 0\n",
    "    for _ in range(iters):\n",
    "        xy_bar, y_bar, x_bar, xx_bar = get_weight_updates(w1, w0, X, y)\n",
    "        w1 =(xy_bar - x_bar*y_bar) / (xx_bar - x_bar*x_bar)\n",
    "        w0 = y_bar - w1*x_bar\n",
    "    return w1, w0\n",
    "\n",
    "w1, w0 = gradient_descent_steps(X, y, 1000)\n",
    "print(w1, w0)"
   ]
  },
  {
   "cell_type": "code",
   "execution_count": null,
   "id": "c3cebe34",
   "metadata": {},
   "outputs": [],
   "source": [
    "y_pred2 = w1 * X + w0\n",
    "plt.scatter(X, y)\n",
    "plt.plot(X, y_pred2, c='red')"
   ]
  },
  {
   "cell_type": "code",
   "execution_count": null,
   "id": "295a4130",
   "metadata": {},
   "outputs": [],
   "source": [
    "# 경사하강법 - 행렬 풀이\n",
    "X = df.bmi\n",
    "y = y_log\n",
    "\n",
    "def get_cost(y, y_pred):\n",
    "    N = len(y)\n",
    "    cost = np.sum(np.square(y - y_pred)) / N #손실 함수 or 비용 함수\n",
    "    return cost\n",
    "\n",
    "def get_weight_updates(w1, w0, X, y, learning_rate=0.001):\n",
    "    N = len(y)\n",
    "    y_pred = np.dot(X, w1) + w0\n",
    "    print(get_cost(y, y_pred))\n",
    "    diff = y_pred - y\n",
    "    ones = np.ones((N, 1))\n",
    "    w1_update = learning_rate * 2 * np.dot(X.T, diff) / N\n",
    "    w0_update = learning_rate * 2 * np.dot(ones.T, diff) / N\n",
    "    return w1_update, w0_update\n",
    "\n",
    "def gradient_descent_steps(X, y, iters=10000):\n",
    "    w0 = 0\n",
    "    w1 = 0\n",
    "    for _ in range(iters):\n",
    "        w1_update, w0_update = get_weight_updates(w1, w0, X ,y)\n",
    "        w1 = w1 - w1_update\n",
    "        w0 = w0 - w0_update\n",
    "    return w1, w0\n",
    "\n",
    "w1, w0 = gradient_descent_steps(X, y, 1000)\n",
    "print(w1, w0)"
   ]
  },
  {
   "cell_type": "code",
   "execution_count": null,
   "id": "4925abca",
   "metadata": {},
   "outputs": [],
   "source": [
    "y_pred3 = w1 * X + w0\n",
    "plt.scatter(X, y)\n",
    "plt.plot(X, y_pred3, c='red')"
   ]
  },
  {
   "cell_type": "code",
   "execution_count": null,
   "id": "083dad59",
   "metadata": {},
   "outputs": [],
   "source": [
    "# 경사하강법 - 편미분 방정식 풀이\n",
    "X = df.bmi\n",
    "y = y_log\n",
    "\n",
    "def get_cost(y, y_pred):\n",
    "    N = len(y)\n",
    "    cost = np.sum(np.square(y-y_pred))/N\n",
    "    return cost\n",
    "\n",
    "def get_weight_updates(w1, w0, X, y):\n",
    "    N = len(y)\n",
    "    y_pred =np.sum(X*y)+w0\n",
    "    print(get_cost(y, y_pred))\n",
    "    xy_bar = np.sum(X*y)/N\n",
    "    y_bar = np.sum(y)/N\n",
    "    x_bar = np.sum(X)/N\n",
    "    xx_bar =np.sum(X*X)/N\n",
    "    return xy_bar, y_bar ,x_bar, xx_bar \n",
    "\n",
    "def gradient_descent_steps(X, y, iters=10000):\n",
    "    w0 = 0\n",
    "    w1 = 0\n",
    "    for _ in range(iters):\n",
    "        xy_bar, y_bar, x_bar, xx_bar = get_weight_updates(w1, w0, X, y)\n",
    "        w1 =(xy_bar - x_bar*y_bar) / (xx_bar - x_bar*x_bar)\n",
    "        w0 = y_bar - w1*x_bar\n",
    "    return w1, w0\n",
    "\n",
    "w1, w0 = gradient_descent_steps(X, y, 1000)\n",
    "print(w1, w0)"
   ]
  },
  {
   "cell_type": "code",
   "execution_count": null,
   "id": "4f779060",
   "metadata": {},
   "outputs": [],
   "source": [
    "y_pred4 = w1 * X + w0\n",
    "plt.scatter(X, y)\n",
    "plt.plot(X, y_pred4, c='red')"
   ]
  },
  {
   "cell_type": "markdown",
   "id": "9e1063d3",
   "metadata": {},
   "source": [
    "#### 사이킷런 - LinearRegression 알고리즘"
   ]
  },
  {
   "cell_type": "code",
   "execution_count": null,
   "id": "d99e0706",
   "metadata": {},
   "outputs": [],
   "source": [
    "y = y_log\n",
    "X = df[['age']]\n",
    "X_train, X_test, y_train, y_test = train_test_split(X, y, test_size=0.2)\n",
    "\n",
    "lr = LinearRegression()\n",
    "lr.fit(X_train, y_train)\n",
    "y_hat = lr.predict(X_test)\n",
    "mae = mean_absolute_error(y_test, y_hat)\n",
    "mse = mean_squared_error(y_test, y_hat)\n",
    "rmse = np.sqrt(mse)\n",
    "r2 = r2_score(y_test, y_hat)\n",
    "print(mae, mse, rmse, r2)"
   ]
  },
  {
   "cell_type": "code",
   "execution_count": null,
   "id": "8da43a3e",
   "metadata": {},
   "outputs": [],
   "source": [
    "print(lr.intercept_)\n",
    "print(lr.coef_)"
   ]
  },
  {
   "cell_type": "code",
   "execution_count": null,
   "id": "ea925232",
   "metadata": {},
   "outputs": [],
   "source": [
    "plt.figure(figsize=(16,8))\n",
    "plt.scatter(df['age'], y_log, color='black')\n",
    "plt.plot(X_test, y_hat, c='red', linewidth=2)\n",
    "plt.show()"
   ]
  },
  {
   "cell_type": "code",
   "execution_count": null,
   "id": "4aa5abc1",
   "metadata": {},
   "outputs": [],
   "source": [
    "y = y_log\n",
    "X = df[['bmi']]\n",
    "X_train, X_test, y_train, y_test = train_test_split(X, y, test_size=0.2)\n",
    "\n",
    "lr = LinearRegression()\n",
    "lr.fit(X_train, y_train)\n",
    "y_hat = lr.predict(X_test)\n",
    "mae = mean_absolute_error(y_test, y_hat)\n",
    "mse = mean_squared_error(y_test, y_hat)\n",
    "rmse = np.sqrt(mse)\n",
    "r2 = r2_score(y_test, y_hat)\n",
    "print(mae, mse, rmse, r2)"
   ]
  },
  {
   "cell_type": "code",
   "execution_count": null,
   "id": "799016fe",
   "metadata": {},
   "outputs": [],
   "source": [
    "print(lr.intercept_)\n",
    "print(lr.coef_)"
   ]
  },
  {
   "cell_type": "code",
   "execution_count": null,
   "id": "67386293",
   "metadata": {},
   "outputs": [],
   "source": [
    "plt.figure(figsize=(16,8))\n",
    "plt.scatter(df['bmi'], y_log, color='black')\n",
    "plt.plot(X_test, y_hat, c='red', linewidth=2)\n",
    "plt.show()"
   ]
  },
  {
   "cell_type": "markdown",
   "id": "0101b0c9",
   "metadata": {},
   "source": [
    "### 다중 선형 회귀"
   ]
  },
  {
   "cell_type": "code",
   "execution_count": null,
   "id": "3dd460f0",
   "metadata": {},
   "outputs": [],
   "source": [
    "y = y_log\n",
    "X = df.drop(['charges'], axis = 1)\n",
    "X_train, X_test, y_train, y_test = train_test_split(X, y, test_size=0.2)\n",
    "\n",
    "lr = LinearRegression()\n",
    "lr.fit(X_train, y_train)\n",
    "y_hat = lr.predict(X_test)\n",
    "mae = mean_absolute_error(y_test, y_hat)\n",
    "mse = mean_squared_error(y_test, y_hat)\n",
    "rmse = np.sqrt(mse)\n",
    "r2 = r2_score(y_test, y_hat)\n",
    "print(mae, mse, rmse, r2)"
   ]
  },
  {
   "cell_type": "code",
   "execution_count": null,
   "id": "7b615113",
   "metadata": {},
   "outputs": [],
   "source": [
    "print(lr.intercept_)\n",
    "print(lr.coef_)"
   ]
  },
  {
   "cell_type": "code",
   "execution_count": null,
   "id": "524afa3e",
   "metadata": {},
   "outputs": [],
   "source": [
    "y = y_log\n",
    "X = df.drop(['charges','region'], axis = 1)\n",
    "X_train, X_test, y_train, y_test = train_test_split(X, y, test_size=0.2)\n",
    "\n",
    "lr = LinearRegression()\n",
    "lr.fit(X_train, y_train)\n",
    "y_hat = lr.predict(X_test)\n",
    "mae = mean_absolute_error(y_test, y_hat)\n",
    "mse = mean_squared_error(y_test, y_hat)\n",
    "rmse = np.sqrt(mse)\n",
    "r2 = r2_score(y_test, y_hat)\n",
    "print(mae, mse, rmse, r2)"
   ]
  },
  {
   "cell_type": "code",
   "execution_count": null,
   "id": "682b6329",
   "metadata": {},
   "outputs": [],
   "source": [
    "print(lr.intercept_)\n",
    "print(lr.coef_)"
   ]
  },
  {
   "cell_type": "markdown",
   "id": "9e8ea5b8",
   "metadata": {},
   "source": [
    "### 다항 회귀 Polynomial Regression"
   ]
  },
  {
   "cell_type": "code",
   "execution_count": null,
   "id": "e4679e0f",
   "metadata": {},
   "outputs": [],
   "source": [
    "y = y_log\n",
    "X = df1.drop(['charges', 'region'], axis = 1)\n",
    "X_train, X_test, y_train, y_test = train_test_split(x_pol, y, test_size=0.2)\n",
    "\n",
    "pol = PolynomialFeatures (degree = 2)\n",
    "x_pol = pol.fit_transform(X)\n",
    "Pol_reg = LinearRegression()\n",
    "Pol_reg.fit(X_train, y_train)\n",
    "y_test_pred = Pol_reg.predict(X_test)\n",
    "mae = mean_absolute_error(y_test, y_test_pred)\n",
    "mse = mean_squared_error(y_test, y_test_pred)\n",
    "rmse = np.sqrt(mse)\n",
    "r2 = r2_score(y_test, y_test_pred)\n",
    "print(mae, mse, rmse, r2)"
   ]
  },
  {
   "cell_type": "code",
   "execution_count": null,
   "id": "467e6144",
   "metadata": {},
   "outputs": [],
   "source": [
    "print(Pol_reg.intercept_)\n",
    "print(Pol_reg.coef_)"
   ]
  },
  {
   "cell_type": "markdown",
   "id": "47def012",
   "metadata": {},
   "source": [
    "### 릿지 회귀"
   ]
  },
  {
   "cell_type": "code",
   "execution_count": null,
   "id": "dce106ef",
   "metadata": {},
   "outputs": [],
   "source": [
    "y = y_log\n",
    "X = df.drop(['charges','region'], axis = 1)\n",
    "X_train, X_test, y_train, y_test = train_test_split(X, y, test_size=0.2)"
   ]
  },
  {
   "cell_type": "code",
   "execution_count": null,
   "id": "cce76676",
   "metadata": {},
   "outputs": [],
   "source": [
    "parameters = {'alpha': [0.1, 1, 10, 20, 100, 1000]}\n",
    "for alpha in parameters:\n",
    "    ridge = Ridge(alpha=alpha)\n",
    "    ridgeCV = GridSearchCV(ridge, parameters, \n",
    "                           scoring='neg_mean_squared_error', cv=5)\n",
    "    ridgeCV.fit(X_train, y_train)\n",
    "    print(ridgeCV.best_params_)\n",
    "    ridgeCV_pred = ridgeCV.predict(X_test)\n",
    "    mae = mean_absolute_error(y_test, ridgeCV_pred)\n",
    "    mse = mean_squared_error(y_test, ridgeCV_pred)\n",
    "    rmse = np.sqrt(mse)\n",
    "    r2 = r2_score(y_test, ridgeCV_pred)\n",
    "    print(mae, mse, rmse, r2)"
   ]
  },
  {
   "cell_type": "code",
   "execution_count": null,
   "id": "9089f3a0",
   "metadata": {},
   "outputs": [],
   "source": [
    "parameters = {'alpha': [10, 15, 20, 25, 30, 50, 100, 1000]}\n",
    "for alpha in parameters:\n",
    "    ridge = Ridge(alpha=alpha)\n",
    "    ridgeCV = GridSearchCV(ridge, parameters, \n",
    "                           scoring='neg_mean_squared_error', cv=5)\n",
    "    ridgeCV.fit(X_train, y_train)\n",
    "    print(ridgeCV.best_params_)\n",
    "    ridgeCV_pred = ridgeCV.predict(X_test)\n",
    "    mae = mean_absolute_error(y_test, ridgeCV_pred)\n",
    "    mse = mean_squared_error(y_test, ridgeCV_pred)\n",
    "    rmse = np.sqrt(mse)\n",
    "    r2 = r2_score(y_test, ridgeCV_pred)\n",
    "    print(mae, mse, rmse, r2)"
   ]
  },
  {
   "cell_type": "code",
   "execution_count": null,
   "id": "f6969b80",
   "metadata": {},
   "outputs": [],
   "source": [
    "parameters = {'alpha': [15, 16, 17, 20, 25, 50]}\n",
    "for alpha in parameters:\n",
    "    ridge = Ridge(alpha=alpha)\n",
    "    ridgeCV = GridSearchCV(ridge, parameters, \n",
    "                           scoring='neg_mean_squared_error', cv=5)\n",
    "    ridgeCV.fit(X_train, y_train)\n",
    "    print(ridgeCV.best_params_)\n",
    "    ridgeCV_pred = ridgeCV.predict(X_test)\n",
    "    mae = mean_absolute_error(y_test, ridgeCV_pred)\n",
    "    mse = mean_squared_error(y_test, ridgeCV_pred)\n",
    "    rmse = np.sqrt(mse)\n",
    "    r2 = r2_score(y_test, ridgeCV_pred)\n",
    "    print(mae, mse, rmse, r2)"
   ]
  },
  {
   "cell_type": "markdown",
   "id": "64737241",
   "metadata": {},
   "source": [
    "### 라쏘 회귀"
   ]
  },
  {
   "cell_type": "code",
   "execution_count": null,
   "id": "c95ed310",
   "metadata": {},
   "outputs": [],
   "source": [
    "parameters = {'alpha': [1e-3, 1e-2, 1, 5, 10, 20]}\n",
    "lasso = Lasso()\n",
    "lassoCV = GridSearchCV(lasso, parameters,\n",
    "                       scoring='neg_mean_squared_error', cv=5)\n",
    "lassoCV.fit(X_train, y_train)\n",
    "print(lassoCV.best_params_)\n",
    "lassoCV_pred = lassoCV.predict(X_test)\n",
    "mae = mean_absolute_error(y_test, lassoCV_pred)\n",
    "mse = mean_squared_error(y_test, lassoCV_pred)\n",
    "rmse = np.sqrt(mse)\n",
    "r2 = r2_score(y_test, lassoCV_pred)\n",
    "print(mae, mse, rmse, r2)"
   ]
  },
  {
   "cell_type": "code",
   "execution_count": null,
   "id": "ac42ed3a",
   "metadata": {},
   "outputs": [],
   "source": [
    "parameters = {'alpha': [0.001, 0.0012, 0.0013, 0.0014, 0.0015]}\n",
    "lasso = Lasso()\n",
    "lassoCV = GridSearchCV(lasso, parameters,\n",
    "                       scoring='neg_mean_squared_error', cv=5)\n",
    "lassoCV.fit(X_train, y_train)\n",
    "print(lassoCV.best_params_)\n",
    "lassoCV_pred = lassoCV.predict(X_test)\n",
    "mae = mean_absolute_error(y_test, lassoCV_pred)\n",
    "mse = mean_squared_error(y_test, lassoCV_pred)\n",
    "rmse = np.sqrt(mse)\n",
    "r2 = r2_score(y_test, lassoCV_pred)\n",
    "print(mae, mse, rmse, r2)"
   ]
  },
  {
   "cell_type": "markdown",
   "id": "983c339d",
   "metadata": {},
   "source": [
    "### 엘라스틱넷 회귀"
   ]
  },
  {
   "cell_type": "code",
   "execution_count": null,
   "id": "ad1f9fed",
   "metadata": {},
   "outputs": [],
   "source": [
    "df1 = df\n",
    "df.head()"
   ]
  },
  {
   "cell_type": "code",
   "execution_count": null,
   "id": "f5f33bb3",
   "metadata": {},
   "outputs": [],
   "source": [
    "y = y_log\n",
    "X = df1.drop(['charges','region'], axis = 1)\n",
    "X_train, X_test, y_train, y_test = train_test_split(X, y, test_size=0.2)"
   ]
  },
  {
   "cell_type": "code",
   "execution_count": null,
   "id": "fcd56457",
   "metadata": {},
   "outputs": [],
   "source": [
    "alphas = [0.07, 0.1, 0.5, 1, 3]\n",
    "for alpha in alphas:\n",
    "    enet_model = ElasticNet(alpha=alpha, l1_ratio=0.7).fit(X_train,y_train)\n",
    "    enetYpred_ = enet_model.predict(X_test)\n",
    "    mae = mean_absolute_error(y_test, enetYpred_)\n",
    "    mse = mean_squared_error(y_test, enetYpred_)\n",
    "    rmse = np.sqrt(mse)\n",
    "    r2 = r2_score(y_test, enetYpred_)\n",
    "    print(alpha, max(mae, mse, rmse, r2))"
   ]
  },
  {
   "cell_type": "code",
   "execution_count": null,
   "id": "805c7a4b",
   "metadata": {},
   "outputs": [],
   "source": [
    "alphas = [0.07, 0.08, 0.09, 0.1, 0.12]\n",
    "for alpha in alphas:\n",
    "    enet_model = ElasticNet(alpha=alpha, l1_ratio=0.7).fit(X_train,y_train)\n",
    "    enetYpred_ = enet_model.predict(X_test)\n",
    "    mae = mean_absolute_error(y_test, enetYpred_)\n",
    "    mse = mean_squared_error(y_test, enetYpred_)\n",
    "    rmse = np.sqrt(mse)\n",
    "    r2 = r2_score(y_test, enetYpred_)\n",
    "    print(alpha, max(mae, mse, rmse, r2))"
   ]
  },
  {
   "cell_type": "code",
   "execution_count": null,
   "id": "0bdb6385",
   "metadata": {},
   "outputs": [],
   "source": [
    "enet_model = ElasticNet(alpha=0.07, l1_ratio=0.7).fit(X_train,y_train)\n",
    "enetYpred_ = enet_model.predict(X_test)\n",
    "mae = mean_absolute_error(y_test, enetYpred_)\n",
    "mse = mean_squared_error(y_test, enetYpred_)\n",
    "rmse = np.sqrt(mse)\n",
    "r2 = r2_score(y_test, enetYpred_)\n",
    "print(alpha, mae, mse, rmse, r2)"
   ]
  },
  {
   "cell_type": "markdown",
   "id": "1e278d9d",
   "metadata": {},
   "source": [
    "### 로지스틱 회귀"
   ]
  },
  {
   "cell_type": "code",
   "execution_count": null,
   "id": "82c0f12f",
   "metadata": {},
   "outputs": [],
   "source": [
    "df2 = df\n",
    "df2.describe()"
   ]
  },
  {
   "cell_type": "code",
   "execution_count": null,
   "id": "f401c080",
   "metadata": {},
   "outputs": [],
   "source": [
    "df2.loc[df1['charges'] <= 8434, 'charges'] = 0 #on or under avarage\n",
    "df2.loc[df1['charges'] > 8434, 'charges'] = 1 # above avarage\n",
    "df2.describe()"
   ]
  },
  {
   "cell_type": "code",
   "execution_count": null,
   "id": "83369bd2",
   "metadata": {},
   "outputs": [],
   "source": [
    "df2.groupby(['charges']).count()"
   ]
  },
  {
   "cell_type": "code",
   "execution_count": null,
   "id": "c847c384",
   "metadata": {},
   "outputs": [],
   "source": [
    "sns.catplot(x=\"charges\", kind=\"count\", palette=\"cool\", data=df2)"
   ]
  },
  {
   "cell_type": "code",
   "execution_count": null,
   "id": "cca540cb",
   "metadata": {},
   "outputs": [],
   "source": [
    "feature_cols = ['age', 'sex', 'bmi', 'children'] \n",
    "X = df1[feature_cols] \n",
    "y = df1['charges'] \n",
    "X_train, X_test, y_train, y_test = train_test_split(X, y, test_size=0.2)\n",
    "\n",
    "lg = LogisticRegression()\n",
    "lg.fit(X_train, y_train)\n",
    "lg.score(X_test, y_test)"
   ]
  },
  {
   "cell_type": "markdown",
   "id": "11b84cb2",
   "metadata": {},
   "source": [
    "### 랜덤 포레스트 ( Random Forest ) Regressor"
   ]
  },
  {
   "cell_type": "code",
   "execution_count": null,
   "id": "291a561b",
   "metadata": {},
   "outputs": [],
   "source": [
    "df1.head()"
   ]
  },
  {
   "cell_type": "code",
   "execution_count": null,
   "id": "828b6d4d",
   "metadata": {},
   "outputs": [],
   "source": [
    "X = df1.drop(['charges', 'region'], axis=1)\n",
    "y = df1.charges\n",
    "X_train, X_test, y_train, y_test = train_test_split(X, y, test_size=0.2)\n",
    "\n",
    "Rfr = RandomForestRegressor(n_estimators = 100, criterion = 'mse',\n",
    "                              random_state = 1,\n",
    "                              n_jobs = -1)\n",
    "Rfr.fit(X_train,y_train)\n",
    "X_train_pred = Rfr.predict(X_train)\n",
    "X_test_pred = Rfr.predict(X_test)\n",
    "\n",
    "mae = mean_absolute_error(y_test, X_test_pred)\n",
    "mse = mean_squared_error(y_test, X_test_pred)\n",
    "rmse = np.sqrt(mse)\n",
    "r2 = r2_score(y_test, X_test_pred)\n",
    "print(mae, mse, rmse, r2)"
   ]
  },
  {
   "cell_type": "code",
   "execution_count": null,
   "id": "778983fa",
   "metadata": {},
   "outputs": [],
   "source": [
    "plt.figure(figsize=(8,6))\n",
    "\n",
    "plt.scatter(X_train_pred, X_train_pred - y_train,\n",
    "          c = 'gray', marker = 'o', s = 35, alpha = 0.5,\n",
    "          label = 'Train data')\n",
    "plt.scatter(X_test_pred, X_test_pred - y_test,\n",
    "          c = 'blue', marker = 'o', s = 35, alpha = 0.7,\n",
    "          label = 'Test data')\n",
    "plt.xlabel('Predicted values')\n",
    "plt.ylabel('Actual values')\n",
    "plt.legend(loc = 'upper right')\n",
    "plt.hlines(y = 0, xmin = 0, xmax = 30000, lw = 2, color = 'red')"
   ]
  },
  {
   "cell_type": "code",
   "execution_count": null,
   "id": "944e7c5c",
   "metadata": {},
   "outputs": [],
   "source": [
    "print('Feature importance ranking')\n",
    "importances = Rfr.feature_importances_\n",
    "std = np.std([tree.feature_importances_ for tree in Rfr.estimators_],axis=0)\n",
    "indices = np.argsort(importances)[::-1]\n",
    "variables = ['age', 'sex', 'bmi', 'children']\n",
    "importance_list = []\n",
    "for f in range(X.shape[1]):\n",
    "    variable = variables[indices[f]]\n",
    "    importance_list.append(variable)\n",
    "    print(\"%d.%s(%f)\" % (f + 1, variable, importances[indices[f]]))"
   ]
  },
  {
   "cell_type": "code",
   "execution_count": null,
   "id": "1b73f34a",
   "metadata": {},
   "outputs": [],
   "source": [
    "# Plot the feature importances of the forest\n",
    "plt.figure()\n",
    "plt.title(\"Feature importances\")\n",
    "plt.bar(importance_list, importances[indices],\n",
    "       color=\"y\", yerr=std[indices], align=\"center\")"
   ]
  },
  {
   "cell_type": "markdown",
   "id": "ffbfd112",
   "metadata": {},
   "source": [
    "### 회귀 트리"
   ]
  },
  {
   "cell_type": "markdown",
   "id": "5bf5a3b8",
   "metadata": {},
   "source": [
    "#### StandardScaler"
   ]
  },
  {
   "cell_type": "code",
   "execution_count": null,
   "id": "cdcf8aa4",
   "metadata": {},
   "outputs": [],
   "source": [
    "df1.head()"
   ]
  },
  {
   "cell_type": "code",
   "execution_count": null,
   "id": "890326e1",
   "metadata": {},
   "outputs": [],
   "source": [
    "y = y_log\n",
    "X = df1.drop(['charges','region'], axis = 1)\n",
    "X_train, X_test, y_train, y_test = train_test_split(X, y, test_size=0.2)\n",
    "\n",
    "sc = StandardScaler()\n",
    "X_train = sc.fit_transform(X_train)\n",
    "X_test = sc.fit_transform(X_test)"
   ]
  },
  {
   "cell_type": "code",
   "execution_count": null,
   "id": "f1ea6e74",
   "metadata": {},
   "outputs": [],
   "source": [
    "lr = LinearRegression()\n",
    "\n",
    "knn = KNeighborsRegressor(n_neighbors=10)\n",
    "\n",
    "dt = DecisionTreeRegressor(max_depth = 3)\n",
    "\n",
    "rf = RandomForestRegressor(max_depth = 3, n_estimators=500)\n",
    "\n",
    "ada = AdaBoostRegressor( n_estimators=50, learning_rate =.01)\n",
    "\n",
    "gbr = GradientBoostingRegressor(max_depth=2, n_estimators=100, learning_rate =.2)\n",
    "\n",
    "xgb = XGBRegressor(max_depth = 3, n_estimators=50, learning_rate =.2)\n",
    "\n",
    "lgb = LGBMRegressor(max_depth = 3, n_estimators=500)\n",
    "\n",
    "regressors = [('Linear Regression', lr), ('K Nearest Neighbours', knn),\n",
    "               ('Decision Tree', dt), ('Random Forest', rf), ('AdaBoost', ada),\n",
    "              ('Gradient Boosting Regressor', gbr), ('XGBoost', xgb),('LGBM Regressor', lgb)]"
   ]
  },
  {
   "cell_type": "code",
   "execution_count": null,
   "id": "cb5b0245",
   "metadata": {},
   "outputs": [],
   "source": [
    "for regressor_name, regressor in regressors:\n",
    " \n",
    "    # Fit regressor to the training set\n",
    "    regressor.fit(X_train, y_train)    \n",
    "   \n",
    "    # Predict \n",
    "    y_pred = regressor.predict(X_test)\n",
    "    accuracy = round(r2_score(y_test,y_pred),1)*100\n",
    "   \n",
    "    # Evaluate  accuracy on the test set\n",
    "    print('{:s} : {:.0f} %'.format(regressor_name, accuracy))\n",
    "    plt.rcParams[\"figure.figsize\"] = (12,8)\n",
    "    plt.bar(regressor_name,accuracy)"
   ]
  },
  {
   "cell_type": "markdown",
   "id": "a564bd8d",
   "metadata": {},
   "source": [
    "#### MinMaxScaler"
   ]
  },
  {
   "cell_type": "code",
   "execution_count": null,
   "id": "f3ae3459",
   "metadata": {},
   "outputs": [],
   "source": [
    "df1.head()"
   ]
  },
  {
   "cell_type": "code",
   "execution_count": null,
   "id": "2bb6c858",
   "metadata": {},
   "outputs": [],
   "source": [
    "y = y_log\n",
    "X = df1.drop(['charges','region'], axis = 1)\n",
    "X_train, X_test, y_train, y_test = train_test_split(X, y, test_size=0.2)\n",
    "\n",
    "sc = MinMaxScaler()\n",
    "X_train = sc.fit_transform(X_train)\n",
    "X_test = sc.fit_transform(X_test)"
   ]
  },
  {
   "cell_type": "code",
   "execution_count": null,
   "id": "96dcc6f4",
   "metadata": {},
   "outputs": [],
   "source": [
    "lr = LinearRegression()\n",
    "\n",
    "knn = KNeighborsRegressor(n_neighbors=10)\n",
    "\n",
    "dt = DecisionTreeRegressor(max_depth = 3)\n",
    "\n",
    "rf = RandomForestRegressor(max_depth = 3, n_estimators=500)\n",
    "\n",
    "ada = AdaBoostRegressor( n_estimators=50, learning_rate =.01)\n",
    "\n",
    "gbr = GradientBoostingRegressor(max_depth=2, n_estimators=100, learning_rate =.2)\n",
    "\n",
    "xgb = XGBRegressor(max_depth = 3, n_estimators=50, learning_rate =.2)\n",
    "\n",
    "lgb = LGBMRegressor(n_estimators=1000)\n",
    "\n",
    "regressors = [('Linear Regression', lr), ('K Nearest Neighbours', knn),\n",
    "               ('Decision Tree', dt), ('Random Forest', rf), ('AdaBoost', ada),\n",
    "              ('Gradient Boosting Regressor', gbr), ('XGBoost', xgb),('LGBM Regressor', lgb)]"
   ]
  },
  {
   "cell_type": "code",
   "execution_count": null,
   "id": "3b4ac873",
   "metadata": {},
   "outputs": [],
   "source": [
    "for regressor_name, regressor in regressors:\n",
    " \n",
    "    # Fit regressor to the training set\n",
    "    regressor.fit(X_train, y_train)    \n",
    "   \n",
    "    # Predict \n",
    "    y_pred = regressor.predict(X_test)\n",
    "    accuracy = round(r2_score(y_test,y_pred),1)*100\n",
    "   \n",
    "    # Evaluate  accuracy on the test set\n",
    "    print('{:s} : {:.0f} %'.format(regressor_name, accuracy))\n",
    "    plt.rcParams[\"figure.figsize\"] = (12,8)\n",
    "    plt.bar(regressor_name,accuracy)"
   ]
  },
  {
   "cell_type": "code",
   "execution_count": null,
   "id": "5ad76b59",
   "metadata": {},
   "outputs": [],
   "source": []
  }
 ],
 "metadata": {
  "kernelspec": {
   "display_name": "Python 3 (ipykernel)",
   "language": "python",
   "name": "python3"
  },
  "language_info": {
   "codemirror_mode": {
    "name": "ipython",
    "version": 3
   },
   "file_extension": ".py",
   "mimetype": "text/x-python",
   "name": "python",
   "nbconvert_exporter": "python",
   "pygments_lexer": "ipython3",
   "version": "3.7.2"
  }
 },
 "nbformat": 4,
 "nbformat_minor": 5
}
